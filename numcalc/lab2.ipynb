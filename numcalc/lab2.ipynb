{
 "cells": [
  {
   "cell_type": "code",
   "execution_count": 74,
   "metadata": {},
   "outputs": [],
   "source": [
    "import numpy as np\n",
    "import pandas as pd"
   ]
  },
  {
   "cell_type": "code",
   "execution_count": 82,
   "metadata": {},
   "outputs": [],
   "source": [
    "n = 20\n",
    "A = np.array([[1.0/(i+j) if i!=j else 1 for j in range(1, n+1)] for i in range(1, n+1)])\n",
    "f = np.array([1.0/i for i in range(1, n+1)])"
   ]
  },
  {
   "cell_type": "code",
   "execution_count": 83,
   "metadata": {},
   "outputs": [],
   "source": [
    "class GaussianElimination:\n",
    "    def __init__(self, A, f):\n",
    "        self.__n = len(A)\n",
    "        self.__A = np.insert(A, self.__n, f, 1)\n",
    "\n",
    "    def __swap_rows(self, i, j):\n",
    "        tmp_row = self.__A[i]\n",
    "        self.__A[i] = self.__A[j]\n",
    "        self.__A[j] = tmp_row\n",
    "\n",
    "    def __descent_nulls(self):\n",
    "        for i in range(self.__n):\n",
    "            for j in range(i, self.__n):\n",
    "                if self.__A[j][i] != 0:\n",
    "                    not_null_index = j\n",
    "                    break\n",
    "            self.__swap_rows(i, not_null_index)\n",
    "\n",
    "    def __forward(self):\n",
    "         for i in range(self.__n):\n",
    "            for j in range(i+1, self.__n):\n",
    "                self.__A[j] = self.__A[j] - self.__A[i] * self.__A[j][i] / self.__A[i][i]\n",
    "    \n",
    "    def __backward(self):\n",
    "        for i in range(self.__n - 1, -1, -1):\n",
    "            self.__A[i] /= self.__A[i][i]\n",
    "            for j in range(i + 1, self.__n):\n",
    "                self.__A[i][self.__n] += -self.__A[i][j] * self.__A[j][self.__n]\n",
    "                self.__A[i][j] = 0\n",
    "    \n",
    "    def solve(self):\n",
    "\n",
    "        self.__descent_nulls()\n",
    "        self.__forward()\n",
    "        self.__backward()\n",
    "\n",
    "        return np.array([self.__A[i][self.__n] for i in range(self.__n)])"
   ]
  },
  {
   "cell_type": "code",
   "execution_count": 84,
   "metadata": {},
   "outputs": [],
   "source": [
    "class ZeydelIterations:\n",
    "    \n",
    "    def __init__(self, A, f):\n",
    "        \n",
    "        n = len(A)\n",
    "\n",
    "        lower = np.zeros(shape = A.shape)\n",
    "        diag = np.zeros(shape = A.shape)\n",
    "        upper = np.zeros(shape = A.shape)\n",
    "\n",
    "        for i in range(n):\n",
    "            diag[i][i] = A[i][i]\n",
    "            for j in range(i + 1, n):\n",
    "                upper[i][j] = A[i][j]\n",
    "                lower[n - i - 1][j - i - 1] = A[n - i - 1][j - i - 1]\n",
    "        \n",
    "        self.__R = -np.linalg.inv(lower + diag) @ upper\n",
    "        self.__F = np.linalg.inv(lower + diag) @ f\n",
    "        self.__x_prev = np.zeros(n)\n",
    "        self.__x_cur = np.ones(n)\n",
    "    \n",
    "    def __prev_cur_difference(self):\n",
    "        return np.linalg.norm(self.__x_cur - self.__x_prev)\n",
    "\n",
    "    def __calculate_next(self):\n",
    "        self.__x_prev = self.__x_cur\n",
    "        self.__x_cur = self.__R @ self.__x_cur + self.__F\n",
    "\n",
    "    def solve(self, eps):\n",
    "\n",
    "        iterations_amount = 0\n",
    "\n",
    "        while self.__prev_cur_difference() > eps:\n",
    "            iterations_amount += 1\n",
    "            self.__calculate_next()\n",
    "\n",
    "        return {\"iterations\" : iterations_amount, \"solution\" : np.copy(self.__x_cur)}"
   ]
  },
  {
   "cell_type": "code",
   "execution_count": 85,
   "metadata": {
    "scrolled": true
   },
   "outputs": [],
   "source": [
    "gauss = GaussianElimination(A, f)\n",
    "zeydel = ZeydelIterations(A, f)"
   ]
  },
  {
   "cell_type": "code",
   "execution_count": 86,
   "metadata": {},
   "outputs": [],
   "source": [
    "numpy_solution = np.linalg.solve(A,f)\n",
    "my_gauss_solution = gauss.solve()\n",
    "zeydel_output = zeydel.solve(1e-4)\n",
    "my_zeydel_solution = zeydel_output['solution']\n",
    "zeydel_iterations = zeydel_output['iterations']"
   ]
  },
  {
   "cell_type": "code",
   "execution_count": 87,
   "metadata": {},
   "outputs": [
    {
     "name": "stdout",
     "output_type": "stream",
     "text": [
      "    Numpy solution  Gauss solution  Zeydel solution\n",
      "0         0.920308        0.920308         0.920298\n",
      "1         0.176812        0.176812         0.176806\n",
      "2         0.065268        0.065268         0.065265\n",
      "3         0.028633        0.028633         0.028631\n",
      "4         0.012783        0.012783         0.012782\n",
      "5         0.004857        0.004857         0.004857\n",
      "6         0.000536        0.000536         0.000536\n",
      "7        -0.001951       -0.001951        -0.001950\n",
      "8        -0.003426       -0.003426        -0.003425\n",
      "9        -0.004312       -0.004312        -0.004311\n",
      "10       -0.004838       -0.004838        -0.004837\n",
      "11       -0.005138       -0.005138        -0.005137\n",
      "12       -0.005293       -0.005293        -0.005292\n",
      "13       -0.005354       -0.005354        -0.005353\n",
      "14       -0.005351       -0.005351        -0.005350\n",
      "15       -0.005307       -0.005307        -0.005306\n",
      "16       -0.005235       -0.005235        -0.005234\n",
      "17       -0.005145       -0.005145        -0.005145\n",
      "18       -0.005045       -0.005045        -0.005044\n",
      "19       -0.004937       -0.004937        -0.004937\n"
     ]
    }
   ],
   "source": [
    "columns = [\"Numpy solution\", \"Gauss solution\", \"Zeydel solution\"]\n",
    "solutions = pd.DataFrame(data = np.array([numpy_solution, my_gauss_solution, my_zeydel_solution]).transpose(), columns=columns)\n",
    "print(solutions)"
   ]
  }
 ],
 "metadata": {
  "kernelspec": {
   "display_name": "Python 3",
   "language": "python",
   "name": "python3"
  },
  "language_info": {
   "codemirror_mode": {
    "name": "ipython",
    "version": 3
   },
   "file_extension": ".py",
   "mimetype": "text/x-python",
   "name": "python",
   "nbconvert_exporter": "python",
   "pygments_lexer": "ipython3",
   "version": "3.6.9"
  }
 },
 "nbformat": 4,
 "nbformat_minor": 4
}
